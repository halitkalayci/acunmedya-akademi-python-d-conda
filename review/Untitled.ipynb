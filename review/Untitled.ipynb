{
 "cells": [
  {
   "cell_type": "code",
   "execution_count": 1,
   "id": "59b270bc-9413-47d1-9adf-3d72133497aa",
   "metadata": {},
   "outputs": [
    {
     "name": "stdout",
     "output_type": "stream",
     "text": [
      "Requirement already satisfied: psycopg2 in c:\\users\\pc1\\miniconda3\\envs\\my_env\\lib\\site-packages (2.9.10)\n"
     ]
    }
   ],
   "source": [
    "# ORM -> SQLAlchemy\n",
    "# Adapter ->\n",
    "!pip install psycopg2"
   ]
  },
  {
   "cell_type": "code",
   "execution_count": 4,
   "id": "89c39f60-819c-46f3-9054-05fb6b095a82",
   "metadata": {},
   "outputs": [],
   "source": [
    "import psycopg2\n",
    "\n",
    "connection = psycopg2.connect(\n",
    "    dbname='testdb',\n",
    "    user='postgres',\n",
    "    password='1234',\n",
    "    host='193.203.191.79',\n",
    "    port='32001'\n",
    ")\n",
    "\n",
    "query = \"Select * from users\"\n"
   ]
  },
  {
   "cell_type": "code",
   "execution_count": 5,
   "id": "3f9b285f-fb4a-479a-b80d-1e45d3677d39",
   "metadata": {},
   "outputs": [
    {
     "name": "stderr",
     "output_type": "stream",
     "text": [
      "C:\\Users\\PC1\\AppData\\Local\\Temp\\ipykernel_31448\\2054633523.py:3: UserWarning: pandas only supports SQLAlchemy connectable (engine/connection) or database string URI or sqlite3 DBAPI2 connection. Other DBAPI2 objects are not tested. Please consider using SQLAlchemy.\n",
      "  df = pd.read_sql(query,connection)\n"
     ]
    },
    {
     "data": {
      "text/html": [
       "<div>\n",
       "<style scoped>\n",
       "    .dataframe tbody tr th:only-of-type {\n",
       "        vertical-align: middle;\n",
       "    }\n",
       "\n",
       "    .dataframe tbody tr th {\n",
       "        vertical-align: top;\n",
       "    }\n",
       "\n",
       "    .dataframe thead th {\n",
       "        text-align: right;\n",
       "    }\n",
       "</style>\n",
       "<table border=\"1\" class=\"dataframe\">\n",
       "  <thead>\n",
       "    <tr style=\"text-align: right;\">\n",
       "      <th></th>\n",
       "      <th>id</th>\n",
       "      <th>name</th>\n",
       "      <th>email</th>\n",
       "      <th>review</th>\n",
       "      <th>rating</th>\n",
       "    </tr>\n",
       "  </thead>\n",
       "  <tbody>\n",
       "    <tr>\n",
       "      <th>0</th>\n",
       "      <td>1</td>\n",
       "      <td>Raymond Howard</td>\n",
       "      <td>erodriguez@example.net</td>\n",
       "      <td>Partner trouble serious sign bar follow. Assum...</td>\n",
       "      <td>6.8</td>\n",
       "    </tr>\n",
       "  </tbody>\n",
       "</table>\n",
       "</div>"
      ],
      "text/plain": [
       "   id            name                   email                                             review  rating\n",
       "0   1  Raymond Howard  erodriguez@example.net  Partner trouble serious sign bar follow. Assum...     6.8"
      ]
     },
     "execution_count": 5,
     "metadata": {},
     "output_type": "execute_result"
    }
   ],
   "source": [
    "import pandas as pd\n",
    "\n",
    "df = pd.read_sql(query,connection)\n",
    "df.head(1)"
   ]
  },
  {
   "cell_type": "code",
   "execution_count": 6,
   "id": "70d813c3-3870-4b1b-881f-00eed0207ee6",
   "metadata": {},
   "outputs": [],
   "source": [
    "connection.close()"
   ]
  },
  {
   "cell_type": "code",
   "execution_count": 7,
   "id": "e8945f2a-c7a4-4506-aff0-0dac2c152abd",
   "metadata": {},
   "outputs": [
    {
     "data": {
      "text/plain": [
       "(4011, 5)"
      ]
     },
     "execution_count": 7,
     "metadata": {},
     "output_type": "execute_result"
    }
   ],
   "source": [
    "df.shape"
   ]
  },
  {
   "cell_type": "code",
   "execution_count": 8,
   "id": "1b40259d-9f76-445d-a3a6-649fff9ade5d",
   "metadata": {},
   "outputs": [],
   "source": [
    "reviews = df['review'].values\n",
    "ratings = df['rating'].values"
   ]
  },
  {
   "cell_type": "code",
   "execution_count": 11,
   "id": "87a94c78-aae8-45f4-92c6-88d745a77f9a",
   "metadata": {},
   "outputs": [],
   "source": [
    "# token\n",
    "#!pip install tensorflow"
   ]
  },
  {
   "cell_type": "code",
   "execution_count": 13,
   "id": "02fba832-0565-4d9d-81c2-682886abf51d",
   "metadata": {},
   "outputs": [],
   "source": [
    "from sklearn.model_selection import train_test_split\n",
    "\n",
    "X_train, X_test, y_train, y_test = train_test_split(reviews, ratings, test_size=0.3, random_state=42)"
   ]
  },
  {
   "cell_type": "code",
   "execution_count": 14,
   "id": "3bc9436f-0310-4de3-9808-32b1bfe19b05",
   "metadata": {},
   "outputs": [],
   "source": [
    "from tensorflow.keras.preprocessing.text import Tokenizer\n",
    "\n",
    "tokenizer = Tokenizer(num_words=10000, oov_token='<OOV>') # 10k kelime max., OOV => out-of vocabulary\n",
    "tokenizer.fit_on_texts(X_train)"
   ]
  },
  {
   "cell_type": "code",
   "execution_count": 16,
   "id": "3f52ddbb-501c-4f79-ba99-e1e6bbcfb011",
   "metadata": {},
   "outputs": [],
   "source": [
    "X_train_seq = tokenizer.texts_to_sequences(X_train) #Sözlüğe göre çeviri\n",
    "X_test_seq = tokenizer.texts_to_sequences(X_test) #Sözlüğe göre çeviri"
   ]
  },
  {
   "cell_type": "code",
   "execution_count": 24,
   "id": "9badb40d-0201-4f4a-be65-94564858c38a",
   "metadata": {},
   "outputs": [],
   "source": [
    "# Padding -> 50 -> Bütün cümleleri 50 kelimeye tamamla ya da kırp. 40 kelime -> sonuna ya da başına 10 tane boşluk ekle.\n",
    "# 120 kelime => [50] [50] [50] -> 3. arrayin son 30 kelimesi boşluk.\n",
    "from tensorflow.keras.preprocessing.sequence import pad_sequences\n",
    "\n",
    "X_train_pad = pad_sequences(X_train_seq, maxlen=50, padding=\"post\")\n",
    "X_test_pad = pad_sequences(X_test_seq, maxlen=50, padding=\"post\")\n",
    "\n",
    "#"
   ]
  },
  {
   "cell_type": "code",
   "execution_count": 26,
   "id": "66346322-9d6e-4688-95e8-1bb885bc47a7",
   "metadata": {},
   "outputs": [],
   "source": [
    "#X_train_pad[0], X_train_seq[0]"
   ]
  },
  {
   "cell_type": "code",
   "execution_count": 27,
   "id": "8de529df-e22b-4eba-ae0b-0b0128269f16",
   "metadata": {},
   "outputs": [],
   "source": [
    "import tensorflow as tf"
   ]
  },
  {
   "cell_type": "code",
   "execution_count": 28,
   "id": "1df18c4b-a171-44a0-9125-5efeeee2e036",
   "metadata": {},
   "outputs": [
    {
     "name": "stderr",
     "output_type": "stream",
     "text": [
      "C:\\Users\\PC1\\miniconda3\\envs\\my_env\\Lib\\site-packages\\keras\\src\\layers\\core\\embedding.py:90: UserWarning: Argument `input_length` is deprecated. Just remove it.\n",
      "  warnings.warn(\n"
     ]
    }
   ],
   "source": [
    "# Ödev 1 => Aktivasyon fonksiyonu nedir? Farklı activation func. araştıralım (relu, leaky relu)\n",
    "\n",
    "model = tf.keras.Sequential([\n",
    "    tf.keras.layers.Embedding(input_dim=10000, output_dim=64, input_length=50), # Input katmanı-> Kelimeleri alır vektörlere çevirir\n",
    "    tf.keras.layers.Bidirectional(tf.keras.layers.LSTM(64)), # Cümleyi iki directiondan (yön) oku. # LSTM -> Long Short-Term Memory\n",
    "    tf.keras.layers.Dense(32, activation='relu'), # 32 output activation fonk.\n",
    "    tf.keras.layers.Dropout(0.4), # Nöronları rastgele verilen oranda %40 kapatır.\n",
    "    \n",
    "])"
   ]
  },
  {
   "cell_type": "code",
   "execution_count": null,
   "id": "bca990de-e4b6-4808-a5fc-662121c7fad7",
   "metadata": {},
   "outputs": [],
   "source": [
    " "
   ]
  }
 ],
 "metadata": {
  "kernelspec": {
   "display_name": "Python 3 (ipykernel)",
   "language": "python",
   "name": "python3"
  },
  "language_info": {
   "codemirror_mode": {
    "name": "ipython",
    "version": 3
   },
   "file_extension": ".py",
   "mimetype": "text/x-python",
   "name": "python",
   "nbconvert_exporter": "python",
   "pygments_lexer": "ipython3",
   "version": "3.11.11"
  }
 },
 "nbformat": 4,
 "nbformat_minor": 5
}
