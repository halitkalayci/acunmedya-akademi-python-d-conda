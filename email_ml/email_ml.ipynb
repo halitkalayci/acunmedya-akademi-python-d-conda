{
 "cells": [
  {
   "cell_type": "code",
   "execution_count": null,
   "id": "07d12a77-478e-4925-90e4-530018c8464c",
   "metadata": {},
   "outputs": [],
   "source": []
  }
 ],
 "metadata": {
  "kernelspec": {
   "display_name": "",
   "name": ""
  },
  "language_info": {
   "name": ""
  }
 },
 "nbformat": 4,
 "nbformat_minor": 5
}
